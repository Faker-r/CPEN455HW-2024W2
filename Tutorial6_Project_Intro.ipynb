{
 "cells": [
  {
   "cell_type": "code",
   "execution_count": 1,
   "metadata": {
    "id": "ELiNb78FoPA9"
   },
   "outputs": [],
   "source": [
    "%load_ext autoreload\n",
    "%autoreload 2"
   ]
  },
  {
   "cell_type": "code",
   "execution_count": 3,
   "metadata": {
    "id": "VJxs2JmUlKyn"
   },
   "outputs": [
    {
     "name": "stdout",
     "output_type": "stream",
     "text": [
      "C:\\Users\\andrew\\anaconda3\\python.exe\n",
      "C:\\Users\\andrew\\school\\CPEN455HW-2024W2\n"
     ]
    }
   ],
   "source": []
  },
  {
   "cell_type": "code",
   "execution_count": null,
   "metadata": {
    "id": "3yNrAXyrldC5"
   },
   "outputs": [],
   "source": []
  },
  {
   "cell_type": "code",
   "execution_count": 7,
   "metadata": {
    "id": "qM_tcTdwmplB"
   },
   "outputs": [
    {
     "name": "stdout",
     "output_type": "stream",
     "text": [
      "Requirement already satisfied: bidict in c:\\users\\andrew\\anaconda3\\envs\\cpen455\\lib\\site-packages (from -r requirements.txt (line 1)) (0.23.1)\n",
      "Requirement already satisfied: matplotlib in c:\\users\\andrew\\anaconda3\\envs\\cpen455\\lib\\site-packages (from -r requirements.txt (line 2)) (3.10.1)\n",
      "Requirement already satisfied: mpmath in c:\\users\\andrew\\anaconda3\\envs\\cpen455\\lib\\site-packages (from -r requirements.txt (line 3)) (1.3.0)\n",
      "Requirement already satisfied: numpy in c:\\users\\andrew\\anaconda3\\envs\\cpen455\\lib\\site-packages (from -r requirements.txt (line 4)) (2.1.2)\n",
      "Requirement already satisfied: pandas in c:\\users\\andrew\\anaconda3\\envs\\cpen455\\lib\\site-packages (from -r requirements.txt (line 5)) (2.2.3)\n",
      "Requirement already satisfied: pillow in c:\\users\\andrew\\anaconda3\\envs\\cpen455\\lib\\site-packages (from -r requirements.txt (line 6)) (11.0.0)\n",
      "Requirement already satisfied: pytorch-fid in c:\\users\\andrew\\anaconda3\\envs\\cpen455\\lib\\site-packages (from -r requirements.txt (line 7)) (0.3.0)\n",
      "Requirement already satisfied: scipy in c:\\users\\andrew\\anaconda3\\envs\\cpen455\\lib\\site-packages (from -r requirements.txt (line 8)) (1.15.2)\n",
      "Requirement already satisfied: tqdm in c:\\users\\andrew\\anaconda3\\envs\\cpen455\\lib\\site-packages (from -r requirements.txt (line 9)) (4.67.1)\n",
      "Requirement already satisfied: wandb in c:\\users\\andrew\\anaconda3\\envs\\cpen455\\lib\\site-packages (from -r requirements.txt (line 10)) (0.19.9)\n",
      "Requirement already satisfied: contourpy>=1.0.1 in c:\\users\\andrew\\anaconda3\\envs\\cpen455\\lib\\site-packages (from matplotlib->-r requirements.txt (line 2)) (1.3.1)\n",
      "Requirement already satisfied: cycler>=0.10 in c:\\users\\andrew\\anaconda3\\envs\\cpen455\\lib\\site-packages (from matplotlib->-r requirements.txt (line 2)) (0.12.1)\n",
      "Requirement already satisfied: fonttools>=4.22.0 in c:\\users\\andrew\\anaconda3\\envs\\cpen455\\lib\\site-packages (from matplotlib->-r requirements.txt (line 2)) (4.57.0)\n",
      "Requirement already satisfied: kiwisolver>=1.3.1 in c:\\users\\andrew\\anaconda3\\envs\\cpen455\\lib\\site-packages (from matplotlib->-r requirements.txt (line 2)) (1.4.8)\n",
      "Requirement already satisfied: packaging>=20.0 in c:\\users\\andrew\\anaconda3\\envs\\cpen455\\lib\\site-packages (from matplotlib->-r requirements.txt (line 2)) (24.2)\n",
      "Requirement already satisfied: pyparsing>=2.3.1 in c:\\users\\andrew\\anaconda3\\envs\\cpen455\\lib\\site-packages (from matplotlib->-r requirements.txt (line 2)) (3.2.3)\n",
      "Requirement already satisfied: python-dateutil>=2.7 in c:\\users\\andrew\\anaconda3\\envs\\cpen455\\lib\\site-packages (from matplotlib->-r requirements.txt (line 2)) (2.9.0.post0)\n",
      "Requirement already satisfied: pytz>=2020.1 in c:\\users\\andrew\\anaconda3\\envs\\cpen455\\lib\\site-packages (from pandas->-r requirements.txt (line 5)) (2025.2)\n",
      "Requirement already satisfied: tzdata>=2022.7 in c:\\users\\andrew\\anaconda3\\envs\\cpen455\\lib\\site-packages (from pandas->-r requirements.txt (line 5)) (2025.2)\n",
      "Requirement already satisfied: torch>=1.0.1 in c:\\users\\andrew\\anaconda3\\envs\\cpen455\\lib\\site-packages (from pytorch-fid->-r requirements.txt (line 7)) (2.6.0+cu118)\n",
      "Requirement already satisfied: torchvision>=0.2.2 in c:\\users\\andrew\\anaconda3\\envs\\cpen455\\lib\\site-packages (from pytorch-fid->-r requirements.txt (line 7)) (0.21.0+cu118)\n",
      "Requirement already satisfied: colorama in c:\\users\\andrew\\anaconda3\\envs\\cpen455\\lib\\site-packages (from tqdm->-r requirements.txt (line 9)) (0.4.6)\n",
      "Requirement already satisfied: click!=8.0.0,>=7.1 in c:\\users\\andrew\\anaconda3\\envs\\cpen455\\lib\\site-packages (from wandb->-r requirements.txt (line 10)) (8.1.8)\n",
      "Requirement already satisfied: docker-pycreds>=0.4.0 in c:\\users\\andrew\\anaconda3\\envs\\cpen455\\lib\\site-packages (from wandb->-r requirements.txt (line 10)) (0.4.0)\n",
      "Requirement already satisfied: gitpython!=3.1.29,>=1.0.0 in c:\\users\\andrew\\anaconda3\\envs\\cpen455\\lib\\site-packages (from wandb->-r requirements.txt (line 10)) (3.1.44)\n",
      "Requirement already satisfied: platformdirs in c:\\users\\andrew\\anaconda3\\envs\\cpen455\\lib\\site-packages (from wandb->-r requirements.txt (line 10)) (4.3.7)\n",
      "Requirement already satisfied: protobuf!=4.21.0,!=5.28.0,<6,>=3.19.0 in c:\\users\\andrew\\anaconda3\\envs\\cpen455\\lib\\site-packages (from wandb->-r requirements.txt (line 10)) (5.29.4)\n",
      "Requirement already satisfied: psutil>=5.0.0 in c:\\users\\andrew\\anaconda3\\envs\\cpen455\\lib\\site-packages (from wandb->-r requirements.txt (line 10)) (7.0.0)\n",
      "Requirement already satisfied: pydantic<3 in c:\\users\\andrew\\anaconda3\\envs\\cpen455\\lib\\site-packages (from wandb->-r requirements.txt (line 10)) (2.11.3)\n",
      "Requirement already satisfied: pyyaml in c:\\users\\andrew\\anaconda3\\envs\\cpen455\\lib\\site-packages (from wandb->-r requirements.txt (line 10)) (6.0.2)\n",
      "Requirement already satisfied: requests<3,>=2.0.0 in c:\\users\\andrew\\anaconda3\\envs\\cpen455\\lib\\site-packages (from wandb->-r requirements.txt (line 10)) (2.32.3)\n",
      "Requirement already satisfied: sentry-sdk>=2.0.0 in c:\\users\\andrew\\anaconda3\\envs\\cpen455\\lib\\site-packages (from wandb->-r requirements.txt (line 10)) (2.25.1)\n",
      "Requirement already satisfied: setproctitle in c:\\users\\andrew\\anaconda3\\envs\\cpen455\\lib\\site-packages (from wandb->-r requirements.txt (line 10)) (1.3.5)\n",
      "Requirement already satisfied: setuptools in c:\\users\\andrew\\anaconda3\\envs\\cpen455\\lib\\site-packages (from wandb->-r requirements.txt (line 10)) (75.8.0)\n",
      "Requirement already satisfied: typing-extensions<5,>=4.4 in c:\\users\\andrew\\anaconda3\\envs\\cpen455\\lib\\site-packages (from wandb->-r requirements.txt (line 10)) (4.12.2)\n",
      "Requirement already satisfied: six>=1.4.0 in c:\\users\\andrew\\anaconda3\\envs\\cpen455\\lib\\site-packages (from docker-pycreds>=0.4.0->wandb->-r requirements.txt (line 10)) (1.17.0)\n",
      "Requirement already satisfied: gitdb<5,>=4.0.1 in c:\\users\\andrew\\anaconda3\\envs\\cpen455\\lib\\site-packages (from gitpython!=3.1.29,>=1.0.0->wandb->-r requirements.txt (line 10)) (4.0.12)\n",
      "Requirement already satisfied: annotated-types>=0.6.0 in c:\\users\\andrew\\anaconda3\\envs\\cpen455\\lib\\site-packages (from pydantic<3->wandb->-r requirements.txt (line 10)) (0.7.0)\n",
      "Requirement already satisfied: pydantic-core==2.33.1 in c:\\users\\andrew\\anaconda3\\envs\\cpen455\\lib\\site-packages (from pydantic<3->wandb->-r requirements.txt (line 10)) (2.33.1)\n",
      "Requirement already satisfied: typing-inspection>=0.4.0 in c:\\users\\andrew\\anaconda3\\envs\\cpen455\\lib\\site-packages (from pydantic<3->wandb->-r requirements.txt (line 10)) (0.4.0)\n",
      "Requirement already satisfied: charset-normalizer<4,>=2 in c:\\users\\andrew\\anaconda3\\envs\\cpen455\\lib\\site-packages (from requests<3,>=2.0.0->wandb->-r requirements.txt (line 10)) (3.4.1)\n",
      "Requirement already satisfied: idna<4,>=2.5 in c:\\users\\andrew\\anaconda3\\envs\\cpen455\\lib\\site-packages (from requests<3,>=2.0.0->wandb->-r requirements.txt (line 10)) (3.10)\n",
      "Requirement already satisfied: urllib3<3,>=1.21.1 in c:\\users\\andrew\\anaconda3\\envs\\cpen455\\lib\\site-packages (from requests<3,>=2.0.0->wandb->-r requirements.txt (line 10)) (2.4.0)\n",
      "Requirement already satisfied: certifi>=2017.4.17 in c:\\users\\andrew\\anaconda3\\envs\\cpen455\\lib\\site-packages (from requests<3,>=2.0.0->wandb->-r requirements.txt (line 10)) (2025.1.31)\n",
      "Requirement already satisfied: filelock in c:\\users\\andrew\\anaconda3\\envs\\cpen455\\lib\\site-packages (from torch>=1.0.1->pytorch-fid->-r requirements.txt (line 7)) (3.13.1)\n",
      "Requirement already satisfied: networkx in c:\\users\\andrew\\anaconda3\\envs\\cpen455\\lib\\site-packages (from torch>=1.0.1->pytorch-fid->-r requirements.txt (line 7)) (3.3)\n",
      "Requirement already satisfied: jinja2 in c:\\users\\andrew\\anaconda3\\envs\\cpen455\\lib\\site-packages (from torch>=1.0.1->pytorch-fid->-r requirements.txt (line 7)) (3.1.4)\n",
      "Requirement already satisfied: fsspec in c:\\users\\andrew\\anaconda3\\envs\\cpen455\\lib\\site-packages (from torch>=1.0.1->pytorch-fid->-r requirements.txt (line 7)) (2024.6.1)\n",
      "Requirement already satisfied: sympy==1.13.1 in c:\\users\\andrew\\anaconda3\\envs\\cpen455\\lib\\site-packages (from torch>=1.0.1->pytorch-fid->-r requirements.txt (line 7)) (1.13.1)\n",
      "Requirement already satisfied: smmap<6,>=3.0.1 in c:\\users\\andrew\\anaconda3\\envs\\cpen455\\lib\\site-packages (from gitdb<5,>=4.0.1->gitpython!=3.1.29,>=1.0.0->wandb->-r requirements.txt (line 10)) (5.0.2)\n",
      "Requirement already satisfied: MarkupSafe>=2.0 in c:\\users\\andrew\\anaconda3\\envs\\cpen455\\lib\\site-packages (from jinja2->torch>=1.0.1->pytorch-fid->-r requirements.txt (line 7)) (2.1.5)\n"
     ]
    }
   ],
   "source": [
    "!pip install -r requirements.txt"
   ]
  },
  {
   "cell_type": "code",
   "execution_count": 8,
   "metadata": {
    "id": "MtS0dP-omQ0f"
   },
   "outputs": [
    {
     "name": "stderr",
     "output_type": "stream",
     "text": [
      "Traceback (most recent call last):\n",
      "  File \"C:\\Users\\andrew\\school\\CPEN455HW-2024W2\\pcnn_train.py\", line 10, in <module>\n",
      "    from dataset import *\n",
      "  File \"C:\\Users\\andrew\\school\\CPEN455HW-2024W2\\dataset.py\", line 3, in <module>\n",
      "    import matplotlib.pyplot as plt\n",
      "  File \"C:\\Users\\andrew\\anaconda3\\envs\\cpen455\\lib\\site-packages\\matplotlib\\__init__.py\", line 1296, in <module>\n",
      "    rcParams['backend'] = os.environ.get('MPLBACKEND')\n",
      "  File \"C:\\Users\\andrew\\anaconda3\\envs\\cpen455\\lib\\site-packages\\matplotlib\\__init__.py\", line 771, in __setitem__\n",
      "    raise ValueError(f\"Key {key}: {ve}\") from None\n",
      "ValueError: Key backend: 'module://matplotlib_inline.backend_inline' is not a valid value for backend; supported values are ['gtk3agg', 'gtk3cairo', 'gtk4agg', 'gtk4cairo', 'macosx', 'nbagg', 'notebook', 'qtagg', 'qtcairo', 'qt5agg', 'qt5cairo', 'tkagg', 'tkcairo', 'webagg', 'wx', 'wxagg', 'wxcairo', 'agg', 'cairo', 'pdf', 'pgf', 'ps', 'svg', 'template']\n"
     ]
    }
   ],
   "source": [
    "# Run the code\n",
    "! python pcnn_train.py \\\n",
    "--batch_size 16 \\\n",
    "--sample_batch_size 16 \\\n",
    "--sampling_interval 25 \\\n",
    "--save_interval 25 \\\n",
    "--dataset cpen455 \\\n",
    "--nr_resnet 2 \\\n",
    "--nr_filters 64 \\\n",
    "--nr_logistics_mix 5 \\\n",
    "--lr_decay 0.999995 \\\n",
    "--max_epochs 500"
   ]
  },
  {
   "cell_type": "code",
   "execution_count": null,
   "metadata": {
    "id": "h2fCc0yZnbhk"
   },
   "outputs": [],
   "source": [
    "# You may import and test your function here as well, but for the final run, make sure you run it via the above command to ensure everything is runnable by us."
   ]
  }
 ],
 "metadata": {
  "accelerator": "GPU",
  "colab": {
   "gpuType": "T4",
   "provenance": [],
   "toc_visible": true
  },
  "kernelspec": {
   "display_name": "Python [conda env:base] *",
   "language": "python",
   "name": "conda-base-py"
  },
  "language_info": {
   "codemirror_mode": {
    "name": "ipython",
    "version": 3
   },
   "file_extension": ".py",
   "mimetype": "text/x-python",
   "name": "python",
   "nbconvert_exporter": "python",
   "pygments_lexer": "ipython3",
   "version": "3.12.7"
  }
 },
 "nbformat": 4,
 "nbformat_minor": 4
}
